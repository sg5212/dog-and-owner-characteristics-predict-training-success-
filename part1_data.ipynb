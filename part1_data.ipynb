{
 "cells": [
  {
   "cell_type": "markdown",
   "source": [
    "<html lang=\"en\">\n",
    "<head>\n",
    "  <h1>Dog and Owner Characteristics Predict Training Success Dataset</h1>\n",
    "  <meta charset=\"utf-8\">\n",
    "</head>\n",
    "<body>\n",
    "\n",
    "<div class=\"alert alert-info\">\n",
    "<strong>Part 1: </strong> Selecting, Extracting, Transforming, Analyzing, and Visualizing Data\n",
    "</div>\n",
    "\n",
    "</body>\n",
    "</html>"
   ],
   "metadata": {}
  },
  {
   "cell_type": "markdown",
   "source": [
    "## Part 1 - Questions\n",
    "\n",
    "### *Question 1:* \n",
    "\n",
    "Does a dog's owner's extroversion and stability affect their nervousness and disobedience?\n",
    "\n",
    "* Who (population): Dogs and their Owners\n",
    "* What (subject, discipline): Training Success\n",
    "* Where (location): USA\n",
    "* When (snapshot, longitudinal): July 2020 - February 2021\n",
    "* How much data do you need to do the analysis/work: around 50 observations\n",
    "\n",
    "### *Question 2:*\n",
    "\n",
    "Does a dog's owner's extroversion and stability affect the success of the training?\n",
    "\n",
    "* Who (population): Dogs and their Owners\n",
    "* What (subject, discipline): Training Success\n",
    "* Where (location): USA\n",
    "* When (snapshot, longitudinal): July 2020 - February 2021\n",
    "* How much data do you need to do the analysis/work: around 50 observations\n",
    "\n",
    "### *Who Might Collect Relevant Data / What Articles or Publications Cite a Relevant Data Set?*\n",
    "\n",
    "Open Science Framework (OSF)"
   ],
   "metadata": {}
  },
  {
   "cell_type": "markdown",
   "source": [
    "## Part 2 - Selecting a Data Set, Adding Documentation\n",
    "\n",
    "### *Dataset Documentation*\n",
    "1. Name / Title: Dog and owner characteristics predict training success\n",
    "2. Link to Data: https://osf.io/3p5vx/\n",
    "3. Source / Origin: \n",
    "\t* Author or Creator: Jeffrey R Stevens London Wolff\n",
    "\t* Publication Date: 2020-07-10\n",
    "\t* Publisher: Open Science Framework (OSF)\n",
    "\t* Version or Data Accessed: stevens_etal_2020_data1\n",
    "4. License: CC-By Attribution 4.0 International\n",
    "5. Can You Use this Data Set for Your Intended Use Case? Yes"
   ],
   "metadata": {}
  },
  {
   "cell_type": "markdown",
   "source": [
    "### *Format*\n",
    "#### 1. Overview\n",
    "\n",
    "* Format: CSV \n",
    "* Size: 16KB \n",
    "* Number of Records: 99 \n",
    "\n"
   ],
   "metadata": {}
  },
  {
   "cell_type": "markdown",
   "source": [
    "#### 2. Sample of Data"
   ],
   "metadata": {}
  },
  {
   "cell_type": "code",
   "execution_count": null,
   "source": [
    "# a few lines of data from the actual file\n",
    "\n",
    "with open('../data/raw/stevens_etal_2020_data1.csv', 'r') as f:\n",
    "   headers = [h.strip() for h in next(f).split(',')]\n",
    "   id_i = headers.index('id')\n",
    "   owner_gender_i = headers.index('owner_gender')\n",
    "   owner_extraversion_i = headers.index('personality_extraversion_score')\n",
    "   owner_stability_i = headers.index('personality_stability_score')\n",
    "   dog_gender_i = headers.index('dog_sex')\n",
    "   dog_disobedient_i = headers.index('dog_behavior_bennett_disobedient_score')\n",
    "   dog_nervous_i = headers.index('dog_behavior_bennett_nervous_score')\n",
    "   cgc_result_i = headers.index('cgc_test')\n",
    "   for line in f:\n",
    "        line_pieces = line.split(',')\n",
    "        # showing only a few lines (20 lines)\n",
    "        if int(line_pieces[id_i]) <= 20: \n",
    "           print('ID: ', line_pieces[id_i])\n",
    "           print('Owner Gender: ', line_pieces[owner_gender_i], '|' ,'Owner Extraversion Score: ', line_pieces[owner_extraversion_i], '|', 'Owner Stability Score: ', line_pieces[owner_stability_i])\n",
    "           print('Dog Gender  : ', line_pieces[dog_gender_i], '|' ,'Dog Disobedient Score   : ', line_pieces[dog_disobedient_i], '|', 'Dog Nervous Score: ', line_pieces[dog_nervous_i])\n",
    "           print('CGC Test Result: ', line_pieces[cgc_result_i])"
   ],
   "outputs": [
    {
     "output_type": "stream",
     "name": "stdout",
     "text": [
      "ID:  1\n",
      "Owner Gender:  Female | Owner Extraversion Score:  2 | Owner Stability Score:  5\n",
      "Dog Gender  :  Male | Dog Disobedient Score   :  -0.05 | Dog Nervous Score:  0.14\n",
      "CGC Test Result:  Pass\n",
      "\n",
      "ID:  2\n",
      "Owner Gender:  Female | Owner Extraversion Score:  3.5 | Owner Stability Score:  4\n",
      "Dog Gender  :  Male | Dog Disobedient Score   :  -0.18 | Dog Nervous Score:  0.65\n",
      "CGC Test Result:  Pass\n",
      "\n",
      "ID:  3\n",
      "Owner Gender:  NA | Owner Extraversion Score:  NA | Owner Stability Score:  NA\n",
      "Dog Gender  :  NA | Dog Disobedient Score   :  NA | Dog Nervous Score:  NA\n",
      "CGC Test Result:  NA\n",
      "\n",
      "ID:  4\n",
      "Owner Gender:  Female | Owner Extraversion Score:  3 | Owner Stability Score:  3.5\n",
      "Dog Gender  :  Female | Dog Disobedient Score   :  0.15 | Dog Nervous Score:  -0.38\n",
      "CGC Test Result:  Pass\n",
      "\n",
      "ID:  5\n",
      "Owner Gender:  NA | Owner Extraversion Score:  NA | Owner Stability Score:  NA\n",
      "Dog Gender  :  NA | Dog Disobedient Score   :  NA | Dog Nervous Score:  NA\n",
      "CGC Test Result:  NA\n",
      "\n",
      "ID:  6\n",
      "Owner Gender:  Female | Owner Extraversion Score:  4.5 | Owner Stability Score:  6\n",
      "Dog Gender  :  Female | Dog Disobedient Score   :  -0.26 | Dog Nervous Score:  -0.39\n",
      "CGC Test Result:  NA\n",
      "\n",
      "ID:  7\n",
      "Owner Gender:  Female | Owner Extraversion Score:  3.5 | Owner Stability Score:  5\n",
      "Dog Gender  :  Female | Dog Disobedient Score   :  -0.89 | Dog Nervous Score:  -0.56\n",
      "CGC Test Result:  NA\n",
      "\n",
      "ID:  8\n",
      "Owner Gender:  NA | Owner Extraversion Score:  NA | Owner Stability Score:  NA\n",
      "Dog Gender  :  NA | Dog Disobedient Score   :  NA | Dog Nervous Score:  NA\n",
      "CGC Test Result:  Pass\n",
      "\n",
      "ID:  9\n",
      "Owner Gender:  Female | Owner Extraversion Score:  4 | Owner Stability Score:  5.5\n",
      "Dog Gender  :  Male | Dog Disobedient Score   :  -0.17 | Dog Nervous Score:  -1.06\n",
      "CGC Test Result:  Pass\n",
      "\n",
      "ID:  10\n",
      "Owner Gender:  Female | Owner Extraversion Score:  2.5 | Owner Stability Score:  3.5\n",
      "Dog Gender  :  Male | Dog Disobedient Score   :  -0.42 | Dog Nervous Score:  0.82\n",
      "CGC Test Result:  NA\n",
      "\n",
      "ID:  11\n",
      "Owner Gender:  Female | Owner Extraversion Score:  4.5 | Owner Stability Score:  4.5\n",
      "Dog Gender  :  Female | Dog Disobedient Score   :  0.53 | Dog Nervous Score:  -0.17\n",
      "CGC Test Result:  NA\n",
      "\n",
      "ID:  12\n",
      "Owner Gender:  NA | Owner Extraversion Score:  NA | Owner Stability Score:  NA\n",
      "Dog Gender  :  NA | Dog Disobedient Score   :  NA | Dog Nervous Score:  NA\n",
      "CGC Test Result:  NA\n",
      "\n",
      "ID:  13\n",
      "Owner Gender:  NA | Owner Extraversion Score:  NA | Owner Stability Score:  NA\n",
      "Dog Gender  :  NA | Dog Disobedient Score   :  NA | Dog Nervous Score:  NA\n",
      "CGC Test Result:  Fail\n",
      "\n",
      "ID:  14\n",
      "Owner Gender:  Female | Owner Extraversion Score:  4.5 | Owner Stability Score:  6\n",
      "Dog Gender  :  Male | Dog Disobedient Score   :  -0.26 | Dog Nervous Score:  -0.56\n",
      "CGC Test Result:  Pass\n",
      "\n",
      "ID:  15\n",
      "Owner Gender:  NA | Owner Extraversion Score:  NA | Owner Stability Score:  NA\n",
      "Dog Gender  :  NA | Dog Disobedient Score   :  NA | Dog Nervous Score:  NA\n",
      "CGC Test Result:  NA\n",
      "\n",
      "ID:  16\n",
      "Owner Gender:  NA | Owner Extraversion Score:  NA | Owner Stability Score:  NA\n",
      "Dog Gender  :  NA | Dog Disobedient Score   :  NA | Dog Nervous Score:  NA\n",
      "CGC Test Result:  NA\n",
      "\n",
      "ID:  17\n",
      "Owner Gender:  Female | Owner Extraversion Score:  3 | Owner Stability Score:  5\n",
      "Dog Gender  :  Female | Dog Disobedient Score   :  0.27 | Dog Nervous Score:  0.33\n",
      "CGC Test Result:  Pass\n",
      "\n",
      "ID:  18\n",
      "Owner Gender:  NA | Owner Extraversion Score:  NA | Owner Stability Score:  NA\n",
      "Dog Gender  :  NA | Dog Disobedient Score   :  NA | Dog Nervous Score:  NA\n",
      "CGC Test Result:  NA\n",
      "\n",
      "ID:  19\n",
      "Owner Gender:  NA | Owner Extraversion Score:  NA | Owner Stability Score:  NA\n",
      "Dog Gender  :  NA | Dog Disobedient Score   :  NA | Dog Nervous Score:  NA\n",
      "CGC Test Result:  Pass\n",
      "\n",
      "ID:  20\n",
      "Owner Gender:  Male | Owner Extraversion Score:  4.5 | Owner Stability Score:  5.5\n",
      "Dog Gender  :  Male | Dog Disobedient Score   :  -0.72 | Dog Nervous Score:  -0.02\n",
      "CGC Test Result:  Fail\n",
      "\n"
     ]
    }
   ],
   "metadata": {}
  },
  {
   "cell_type": "markdown",
   "source": [
    "\n",
    "#### 3. Fields or Column Headers\n",
    "\n",
    " There are 37 columns, only identifying a subset of 7 columns\n",
    "* Field/Column 1: Owner Gender, str\n",
    "* Field/Column 2: Owner Extraversion Score, int\n",
    "* Field/Column 3: Owner Stability Score, int\n",
    "* Field/Column 4: Dog Gender, str\n",
    "* Field/Column 5: Dog Disobedient Score, int\n",
    "* Field/Column 6: Dog Nervousness Score, int\n",
    "* Field/Column 7: CGC Test Result, str"
   ],
   "metadata": {}
  },
  {
   "cell_type": "markdown",
   "source": [
    "## Part 3 - Extract / Transform\n",
    "\n",
    "* I will be using 7 columns: Owner Gender, Owner Extraversion Score, Owner Stability Score, Dog Gender, Dog Disobedient Score, Dog Nervousness Score, and CGC Test Results\n",
    "* For the numeric data, I will use str.format() to format all the scores to have 3 places after the decimal point to consider calculations.\n",
    "* For the categorical data, I will extract the data as is as all entries are normalized to 'Female/Male' or 'Pass/Fail'.\n",
    "* I will use a generator to create an iterator that will iterate over the csv file, extracting the data needed. "
   ],
   "metadata": {}
  },
  {
   "cell_type": "code",
   "execution_count": null,
   "source": [
    "# get the indices of the columns to extract\n",
    "with open('../data/raw/stevens_etal_2020_data1.csv', 'r') as f:\n",
    "   headers = [h.strip() for h in next(f).split(',')]\n",
    "   id_i = headers.index('id')\n",
    "   owner_gender_i = headers.index('owner_gender')\n",
    "   owner_extraversion_i = headers.index('personality_extraversion_score')\n",
    "   owner_stability_i = headers.index('personality_stability_score')\n",
    "   dog_gender_i = headers.index('dog_sex')\n",
    "   dog_disobedient_i = headers.index('dog_behavior_bennett_disobedient_score')\n",
    "   dog_nervous_i = headers.index('dog_behavior_bennett_nervous_score')\n",
    "   cgc_result_i = headers.index('cgc_test')\n",
    "   \n",
    "import csv\n",
    "# read file using generator\n",
    "def csv_reader(fp):\n",
    "   file = open(fp, 'r')\n",
    "   reader = csv.reader(file)\n",
    "   next(reader)\n",
    "   for row in file:\n",
    "       line_list = []\n",
    "       line_pieces = row.split(',')\n",
    "       # extract only rows needed \n",
    "       line_list.append(int(line_pieces[id_i]))\n",
    "       if 'NA' in line_pieces[owner_gender_i]:\n",
    "           line_list.append(None)\n",
    "       else: \n",
    "           line_list.append(line_pieces[owner_gender_i]) \n",
    "       if 'NA' in line_pieces[owner_extraversion_i]:\n",
    "           line_list.append(None)\n",
    "       else: \n",
    "           line_list.append(float(line_pieces[owner_extraversion_i])) \n",
    "       if 'NA' in line_pieces[owner_stability_i]:\n",
    "           line_list.append(None)\n",
    "       else: \n",
    "           line_list.append(float(line_pieces[owner_stability_i])) \n",
    "       if 'NA' in line_pieces[dog_gender_i]:\n",
    "           line_list.append(None)\n",
    "       else: \n",
    "           line_list.append(line_pieces[dog_gender_i]) \n",
    "       if 'NA' in line_pieces[dog_disobedient_i]:\n",
    "           line_list.append(None)\n",
    "       else: \n",
    "           line_list.append(float(line_pieces[dog_disobedient_i])) \n",
    "       if 'NA' in line_pieces[dog_nervous_i]:\n",
    "           line_list.append(None)\n",
    "       else: \n",
    "           line_list.append(float(line_pieces[dog_nervous_i])) \n",
    "       if 'NA' in line_pieces[cgc_result_i]:\n",
    "           line_list.append(None)\n",
    "       else: \n",
    "           line_list.append(line_pieces[cgc_result_i]) \n",
    "       yield line_list \n",
    "file_path = '../data/raw/stevens_etal_2020_data1.csv'\n",
    "arr_data = []\n",
    "for line in csv_reader(file_path): \n",
    "   arr_data.append(line)\n",
    "# storing one num column (owner extraversion score) to a python list\n",
    "num_data = []\n",
    "rowCount = 0\n",
    "for row in arr_data: \n",
    "   num_data.append(arr_data[rowCount][2])\n",
    "   rowCount += 1\n",
    "#print(num_data)\n",
    "   #extract the 7 columns to work with\n",
    "   #transform 4 columns to a Python data type\n",
    "   #store data in a data type of choosing\n",
    "   #clean data\n",
    "   #use a generator"
   ],
   "outputs": [],
   "metadata": {}
  },
  {
   "cell_type": "markdown",
   "source": [
    "## Part 4 - Descriptive Statistics\n",
    "\n",
    "### *Analysis on Numeric Data*"
   ],
   "metadata": {}
  },
  {
   "cell_type": "markdown",
   "source": [
    "#### 1. Central Tendency"
   ],
   "metadata": {}
  },
  {
   "cell_type": "code",
   "execution_count": null,
   "source": [
    "\n",
    "# calculate mean\n",
    "mean = 0\n",
    "numOfNums = 0\n",
    "meanCount = 0\n",
    "# loop through all values of num_data and add up\n",
    "for num in num_data: \n",
    "   if num_data[meanCount] != None: \n",
    "       mean += num_data[meanCount]\n",
    "       numOfNums += 1\n",
    "   meanCount += 1\n",
    "mean = mean / numOfNums\n",
    "print('Mean: ', mean)\n"
   ],
   "outputs": [
    {
     "output_type": "stream",
     "name": "stdout",
     "text": [
      "Mean:  3.9761904761904763\n"
     ]
    }
   ],
   "metadata": {}
  },
  {
   "cell_type": "markdown",
   "source": [
    "#### 2. Dispersion"
   ],
   "metadata": {}
  },
  {
   "cell_type": "code",
   "execution_count": null,
   "source": [
    "# calculate range\n",
    "lowest = num_data[0]\n",
    "highest = 0\n",
    "for num in num_data: \n",
    "  if num != None: \n",
    "      if num > highest: \n",
    "          highest = num\n",
    "      if num < lowest: \n",
    "          lowest = num\n",
    "range = highest - lowest\n",
    "print('Range: ', range)\n"
   ],
   "outputs": [
    {
     "output_type": "stream",
     "name": "stdout",
     "text": [
      "Range:  6.0\n"
     ]
    }
   ],
   "metadata": {}
  },
  {
   "cell_type": "markdown",
   "source": [
    "#### 3. Outliers\n"
   ],
   "metadata": {}
  },
  {
   "cell_type": "code",
   "execution_count": null,
   "source": [
    "print('Outliers: ', lowest, highest)\n"
   ],
   "outputs": [],
   "metadata": {}
  },
  {
   "cell_type": "markdown",
   "source": [
    "#### 4. Other\n"
   ],
   "metadata": {}
  },
  {
   "cell_type": "code",
   "execution_count": null,
   "source": [
    "print('Min: ', lowest, '| Max: ', highest)\n"
   ],
   "outputs": [],
   "metadata": {}
  },
  {
   "cell_type": "markdown",
   "source": [
    "###  *Analysis on Categorical Data*"
   ],
   "metadata": {}
  },
  {
   "cell_type": "markdown",
   "source": [
    "#### 1. Frequency"
   ],
   "metadata": {}
  },
  {
   "cell_type": "code",
   "execution_count": null,
   "source": [
    "freqCount = {}\n",
    "for element in num_data: \n",
    "   if element in freqCount: \n",
    "       freqCount[element] += 1\n",
    "   else: \n",
    "       freqCount[element] = 1\n",
    "print(freqCount)\n"
   ],
   "outputs": [],
   "metadata": {}
  },
  {
   "cell_type": "markdown",
   "source": [
    "#### 2. Unique Values"
   ],
   "metadata": {}
  },
  {
   "cell_type": "code",
   "execution_count": null,
   "source": [
    "value = 1\n",
    "key_list = list(freqCount.keys())\n",
    "val_list = list(freqCount.values())\n",
    "if value in freqCount.values(): \n",
    "   position = val_list.index(value)\n",
    "   print(key_list[position])\n",
    "else: \n",
    "   print('No unique values exist.')\n"
   ],
   "outputs": [],
   "metadata": {}
  },
  {
   "cell_type": "markdown",
   "source": [
    "## Part 5 - Visualizations\n"
   ],
   "metadata": {}
  },
  {
   "cell_type": "code",
   "execution_count": null,
   "source": [
    "key_list = list(freqCount.keys())\n",
    "val_list = list(freqCount.values())\n",
    "import matplotlib.pyplot as plt\n",
    "plt.scatter(key_list, val_list, color = 'blue')\n",
    "plt.xlabel('Owner Extraversion Score')\n",
    "plt.ylabel('Frequency of Score')\n",
    "plt.title('Scatter Plot: Frequency of Owner Extraversion Scores')\n",
    "plt.show() \n"
   ],
   "outputs": [],
   "metadata": {}
  },
  {
   "cell_type": "markdown",
   "source": [
    "Scatter Plot: Frequency of Owner Extraversion Scores\n",
    "\n",
    "The scatter plot displays the frequencies of the Extraversion Scores owners received. The graph shows that 3.5 is the most popular score received.\n"
   ],
   "metadata": {}
  },
  {
   "cell_type": "markdown",
   "source": [
    "## Part 6 - Conclusion\n",
    "\n",
    "The calculations and visualizations helped to answer my second question which was 'Does a dog's owner's extroversion and stability affect the success of the training?'\n",
    "Based on the calculations, the extroversion scores did not vary by much and the range showed that there was a not a great difference between the min and max.\n",
    "The graph showed that frequency of scores also did not vary; therefore, an owner's extroversion scores did not play a big part to determine the success of their dog's training.\n"
   ],
   "metadata": {}
  }
 ],
 "metadata": {
  "kernelspec": {
   "name": "python3",
   "display_name": "Python 3.7.3 64-bit"
  },
  "language_info": {
   "codemirror_mode": {
    "name": "ipython",
    "version": 3
   },
   "file_extension": ".py",
   "mimetype": "text/x-python",
   "name": "python",
   "nbconvert_exporter": "python",
   "pygments_lexer": "ipython3",
   "version": "3.7.3"
  },
  "interpreter": {
   "hash": "31f2aee4e71d21fbe5cf8b01ff0e069b9275f58929596ceb00d14d90e3e16cd6"
  }
 },
 "nbformat": 4,
 "nbformat_minor": 5
}